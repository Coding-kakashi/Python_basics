{
  "nbformat": 4,
  "nbformat_minor": 0,
  "metadata": {
    "colab": {
      "provenance": []
    },
    "kernelspec": {
      "name": "python3",
      "display_name": "Python 3"
    },
    "language_info": {
      "name": "python"
    }
  },
  "cells": [
    {
      "cell_type": "markdown",
      "source": [
        "#**Practical Questions**"
      ],
      "metadata": {
        "id": "gtOO7kHRK4cW"
      }
    },
    {
      "cell_type": "markdown",
      "source": [
        " 1. Write a Python program to print \"Hello, World!\""
      ],
      "metadata": {
        "id": "XW57Tp79LcN9"
      }
    },
    {
      "cell_type": "code",
      "source": [
        "print(\"Hello,world!\")"
      ],
      "metadata": {
        "id": "AT6xlqifJv0U"
      },
      "execution_count": null,
      "outputs": []
    },
    {
      "cell_type": "markdown",
      "source": [
        "2. Write a Python program that displays your name and age."
      ],
      "metadata": {
        "id": "e8p2dQkUMhni"
      }
    },
    {
      "cell_type": "code",
      "source": [
        "given_name = input(\"Enter your name: \")\n",
        "given_age = int(input(\"Enter your age: \"))\n",
        "print(f\"Your name is {given_name} and your age is {given_age}.\")"
      ],
      "metadata": {
        "id": "pSspt3-BJv3d"
      },
      "execution_count": null,
      "outputs": []
    },
    {
      "cell_type": "markdown",
      "source": [
        "3. Write code to print all the pre-defined keywords in Python using the keyword library."
      ],
      "metadata": {
        "id": "ChQvFBF0MiQ3"
      }
    },
    {
      "source": [
        "import keyword\n",
        "\n",
        "all_keywords = keyword.kwlist\n",
        "print(all_keywords)"
      ],
      "cell_type": "code",
      "metadata": {
        "id": "su_I7yajN2hC"
      },
      "execution_count": null,
      "outputs": []
    },
    {
      "cell_type": "markdown",
      "source": [
        "4. Write a program that checks if a given word is a Python keyword."
      ],
      "metadata": {
        "id": "pa9yo4xMMjFw"
      }
    },
    {
      "cell_type": "code",
      "source": [
        "import keyword\n",
        "\n",
        "given_word = input(\"Enter a word: \")\n",
        "\n",
        "if keyword.iskeyword(given_word):\n",
        "    print(f\"{given_word} is a Python keyword.\")\n",
        "else:\n",
        "    print(f\"{given_word} is not a Python keyword.\")"
      ],
      "metadata": {
        "id": "2ZczfapIJv-R"
      },
      "execution_count": null,
      "outputs": []
    },
    {
      "cell_type": "markdown",
      "source": [
        "5. Create a list and tuple in Python, and demonstrate how attempting to change an element works differently\n",
        "for each.\n"
      ],
      "metadata": {
        "id": "7O_xeKPZOiIM"
      }
    },
    {
      "source": [
        "my_list = [1, 2, 3, 4, 5]\n",
        "my_tuple = (1, 2, 3, 4, 5)\n",
        "\n",
        "# Modifying the list (no error)\n",
        "my_list[2] = 10\n",
        "print(my_list)  # Output: [1, 2, 10, 4, 5]\n",
        "\n",
        "# Attempting to modify the tuple (raise error , preventing it using try-except)\n",
        "try:\n",
        "    my_tuple[2] = 10\n",
        "except TypeError:\n",
        "    print(\"Cannot modify a tuple as they are immutable.\")"
      ],
      "cell_type": "code",
      "metadata": {
        "id": "rcyV5sAuPaik"
      },
      "execution_count": null,
      "outputs": []
    },
    {
      "cell_type": "markdown",
      "source": [
        "6. Write a function to demonstrate the behavior of mutable and immutable arguments."
      ],
      "metadata": {
        "id": "pzp-T9uFPw63"
      }
    },
    {
      "source": [
        "def modify_arguments(mutable_arg, immutable_arg):\n",
        "    mutable_arg[0] = 10  # Modifying the mutable argument\n",
        "    immutable_arg = 20   # Attempting to modify the immutable argument\n",
        "\n",
        "    print(\"Inside function:\")\n",
        "    print(f\"Mutable argument: {mutable_arg}\")\n",
        "    print(f\"Immutable argument: {immutable_arg}\")\n",
        "\n",
        "\n",
        "# Calling the function\n",
        "my_list = [1, 2, 3]\n",
        "my_int = 5\n",
        "\n",
        "modify_arguments(my_list, my_int)\n",
        "\n",
        "print(\"\\nOutside function:\")\n",
        "print(f\"Mutable argument: {my_list}\")\n",
        "print(f\"Immutable argument: {my_int}\")"
      ],
      "cell_type": "code",
      "metadata": {
        "id": "NHvsLN_yQYRk"
      },
      "execution_count": null,
      "outputs": []
    },
    {
      "cell_type": "markdown",
      "source": [
        "7. Write a program that performs basic arithmetic operations on two user-input numbers."
      ],
      "metadata": {
        "id": "YIMbJUGyT7YO"
      }
    },
    {
      "cell_type": "code",
      "source": [
        "given_numbers = input(\"Enter two numbers seperated by commas: \")\n",
        "num1,num2 = given_numbers.split(\",\")\n",
        "num1 = float(num1)\n",
        "num2 = float(num2)\n",
        "\n",
        "print(f\"Addition of {num1} and {num2} is {num1+num2}\")\n",
        "print(f\"Subtraction of {num1} and {num2} is {num1-num2}\")\n",
        "print(f\"Subtraction of {num2} and {num1} is {num2-num1}\")\n",
        "print(f\"Multiplication of {num1} and {num2} is {num1*num2}\")\n",
        "\n",
        "try:\n",
        "  print(f\"Quotient of {num1} and {num2} is {num1/num2}\")\n",
        "except ZeroDivisionError:\n",
        "  print(f\"Quotient of {num1} and {num2} is\", float('inf'))\n",
        "\n",
        "try:\n",
        "  print(f\"Quotient of {num2} and {num1} is {num2/num1}\")\n",
        "except ZeroDivisionError:\n",
        "  print(f\"Quotient of {num2} and {num1} is\", float('inf'))\n",
        "\n",
        "print(f\"Remainder of {num1} and {num2} is {num1%num2}\")\n",
        "print(f\"Remainder of {num2} and {num1} is {num2%num1}\")\n",
        "print(f\"Power of {num1} and {num2} is {num1**num2}\")\n",
        "print(f\"Power of {num2} and {num1} is {num2**num1}\")\n"
      ],
      "metadata": {
        "id": "Et9YVV-3JwBc"
      },
      "execution_count": null,
      "outputs": []
    },
    {
      "cell_type": "markdown",
      "source": [
        "8. Write a program to demonstrate the use of logical operators."
      ],
      "metadata": {
        "id": "QeBteoJOOjQk"
      }
    },
    {
      "source": [
        "given_numbers = input(\"Enter two numbers seperated by commas: \")\n",
        "num1,num2 = given_numbers.split(\",\")\n",
        "num1 = float(num1)\n",
        "num2 = float(num2)\n",
        "\n",
        "if num1 > 0 and num2 > 0:\n",
        "    print(\"Both numbers are positive.\")\n",
        "\n",
        "elif num1 > 0 or num2 > 0:\n",
        "    print(\"At least one number is positive.\")\n",
        "\n",
        "else:\n",
        "    print(\"Not both numbers are positive.\")"
      ],
      "cell_type": "code",
      "metadata": {
        "id": "gU98mNrRbOfr"
      },
      "execution_count": null,
      "outputs": []
    },
    {
      "cell_type": "markdown",
      "source": [
        "9. Write a Python program to convert user input from string to integer, float, and boolean type."
      ],
      "metadata": {
        "id": "eDK3Y3PoOj0e"
      }
    },
    {
      "cell_type": "code",
      "source": [
        "num = input(\"Enter a number: \")\n",
        "num_int = int(num)\n",
        "num_float = float(num)\n",
        "num_bool = bool(num)\n",
        "print(f\"Integer value of {num} is {num_int}\")\n",
        "print(f\"Float value of {num} is {num_float}\")\n",
        "print(f\"Boolean value of {num} is {num_bool}\")"
      ],
      "metadata": {
        "id": "ONop13K7JwHh"
      },
      "execution_count": null,
      "outputs": []
    },
    {
      "cell_type": "markdown",
      "source": [
        "10.Write code to demonstrate type casting with list elements"
      ],
      "metadata": {
        "id": "k-ul-zCFOkiH"
      }
    },
    {
      "cell_type": "code",
      "source": [],
      "metadata": {
        "id": "a4_EU-8uJwKh"
      },
      "execution_count": null,
      "outputs": []
    },
    {
      "cell_type": "markdown",
      "source": [],
      "metadata": {
        "id": "mAYZJgT7Ollw"
      }
    },
    {
      "cell_type": "code",
      "source": [],
      "metadata": {
        "id": "XWZGElKtJwNi"
      },
      "execution_count": null,
      "outputs": []
    },
    {
      "cell_type": "code",
      "source": [],
      "metadata": {
        "id": "7IHXq9fMJwQo"
      },
      "execution_count": null,
      "outputs": []
    },
    {
      "cell_type": "code",
      "source": [],
      "metadata": {
        "id": "3v7kRmC3JwTR"
      },
      "execution_count": null,
      "outputs": []
    },
    {
      "cell_type": "code",
      "source": [],
      "metadata": {
        "id": "L-aJ-6UZJwWv"
      },
      "execution_count": null,
      "outputs": []
    }
  ]
}